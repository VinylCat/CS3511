{
 "cells": [
  {
   "cell_type": "code",
   "outputs": [],
   "source": [
    "import cv2\n",
    "import numpy as np\n",
    "\n",
    "src1_path = './train/0/0000c46d.png'\n",
    "scr2_path = './train/1/0000d073.png'"
   ],
   "metadata": {
    "collapsed": false,
    "ExecuteTime": {
     "end_time": "2024-04-19T08:05:09.711872Z",
     "start_time": "2024-04-19T08:05:09.707871Z"
    }
   },
   "id": "9f22c22fa7da9f68",
   "execution_count": 7
  },
  {
   "cell_type": "code",
   "outputs": [
    {
     "data": {
      "text/plain": "-1"
     },
     "execution_count": 11,
     "metadata": {},
     "output_type": "execute_result"
    }
   ],
   "source": [
    "img = cv2.imread(src1_path)\n",
    "img=cv2.addWeighted ( img,4, cv2.GaussianBlur( img , (0,0) , 8) ,-4 ,128)\n",
    "cv2.imshow('Original', img)\n",
    "cv2.waitKey(0)"
   ],
   "metadata": {
    "collapsed": true,
    "pycharm": {
     "name": "#%%\n"
    },
    "ExecuteTime": {
     "end_time": "2024-04-19T08:07:48.975653Z",
     "start_time": "2024-04-19T08:07:40.204898Z"
    }
   },
   "id": "initial_id",
   "execution_count": 11
  },
  {
   "cell_type": "code",
   "outputs": [
    {
     "data": {
      "text/plain": "-1"
     },
     "execution_count": 12,
     "metadata": {},
     "output_type": "execute_result"
    }
   ],
   "source": [
    "img_filter = cv2.imread(src1_path)\n",
    "k = np.max(img_filter)\n",
    "img_filter = cv2.addWeighted (img,4, cv2.medianBlur(img ,k), -4, 128)\n",
    "cv2.imshow('Median Filter', img_filter)\n",
    "cv2.waitKey(0)"
   ],
   "metadata": {
    "collapsed": false,
    "ExecuteTime": {
     "end_time": "2024-04-19T08:07:54.678766Z",
     "start_time": "2024-04-19T08:07:48.977732Z"
    }
   },
   "id": "dbc06c2966e11e4e",
   "execution_count": 12
  },
  {
   "cell_type": "code",
   "outputs": [
    {
     "data": {
      "text/plain": "-1"
     },
     "execution_count": 19,
     "metadata": {},
     "output_type": "execute_result"
    }
   ],
   "source": [
    "img_filter = cv2.imread(src1_path)\n",
    "\n",
    "def subtract_median_bg_image(im):\n",
    "    k = np.max(im.shape)//20*2+1\n",
    "    bg = cv2.medianBlur(im, k)\n",
    "    return cv2.addWeighted (im, 4, bg, -4, 128)\n",
    "\n",
    "img_filter = subtract_median_bg_image(img_filter)\n",
    "cv2.imshow('Median Filter CVT ', img_filter)\n",
    "cv2.waitKey(0)"
   ],
   "metadata": {
    "collapsed": false,
    "ExecuteTime": {
     "end_time": "2024-04-19T08:14:14.629445Z",
     "start_time": "2024-04-19T08:14:10.631239Z"
    }
   },
   "id": "3e6ae2c6cc4ea3fb",
   "execution_count": 19
  },
  {
   "cell_type": "code",
   "outputs": [],
   "source": [],
   "metadata": {
    "collapsed": false,
    "ExecuteTime": {
     "end_time": "2024-04-19T08:13:24.614297Z",
     "start_time": "2024-04-19T08:13:24.612297Z"
    }
   },
   "id": "d1d3178120244e7",
   "execution_count": 15
  },
  {
   "cell_type": "code",
   "outputs": [],
   "source": [],
   "metadata": {
    "collapsed": false
   },
   "id": "4a224e8d5dff591b"
  }
 ],
 "metadata": {
  "kernelspec": {
   "display_name": "Python 3",
   "language": "python",
   "name": "python3"
  },
  "language_info": {
   "codemirror_mode": {
    "name": "ipython",
    "version": 2
   },
   "file_extension": ".py",
   "mimetype": "text/x-python",
   "name": "python",
   "nbconvert_exporter": "python",
   "pygments_lexer": "ipython2",
   "version": "2.7.6"
  }
 },
 "nbformat": 4,
 "nbformat_minor": 5
}
